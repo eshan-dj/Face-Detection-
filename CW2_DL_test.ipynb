{
 "cells": [
  {
   "cell_type": "code",
   "execution_count": 1,
   "metadata": {},
   "outputs": [
    {
     "name": "stderr",
     "output_type": "stream",
     "text": [
      "WARNING:absl:Compiled the loaded model, but the compiled metrics have yet to be built. `model.compile_metrics` will be empty until you train or evaluate the model.\n"
     ]
    },
    {
     "name": "stdout",
     "output_type": "stream",
     "text": [
      "\u001b[1m1/1\u001b[0m \u001b[32m━━━━━━━━━━━━━━━━━━━━\u001b[0m\u001b[37m\u001b[0m \u001b[1m1s\u001b[0m 1s/step\n",
      "Predicted Class: Thevmika, Confidence: 0.83\n"
     ]
    }
   ],
   "source": [
    "import tensorflow as tf\n",
    "import numpy as np\n",
    "import cv2\n",
    "\n",
    "class CustomScaleLayer(tf.keras.layers.Layer):\n",
    "    def __init__(self, scale=1.0, **kwargs):\n",
    "        super(CustomScaleLayer, self).__init__(**kwargs)\n",
    "        self.scale = scale\n",
    "\n",
    "    def call(self, inputs):\n",
    "       \n",
    "        if isinstance(inputs, list):\n",
    "            inputs = tf.convert_to_tensor(inputs[0])\n",
    "        return inputs * self.scale\n",
    "\n",
    "\n",
    "model_path = r\"C:\\Users\\PC\\OneDrive\\Desktop\\NIBM\\HNDS\\Deep Learning\\cw2_dl_hnd241f_005,006\\mobileNet_face_model_final_org123.h5\"\n",
    "image_path = r\"D:\\Face\\COHNDDS24.1-006\\student_0_1284.jpeg\"\n",
    "model = tf.keras.models.load_model(model_path, custom_objects={'CustomScaleLayer': CustomScaleLayer})\n",
    "\n",
    "class_labels = {\n",
    "    0: \"Abdur\",\n",
    "    1: \"Chathuranga\",\n",
    "    2: \"Dinil\",\n",
    "    3: \"Eshan\",\n",
    "    4: \"Harthik\",\n",
    "    5: \"Lahiru\",\n",
    "    6: \"Laknadi\",\n",
    "    7: \"Malith\",\n",
    "    8: \"Manula\",\n",
    "    9: \"Nuhan\",\n",
    "    10: \"Oketha\",\n",
    "    11: \"Sadeeka\",\n",
    "    12: \"Sasindu\",\n",
    "    13: \"Sheneli\",\n",
    "    14: \"Thevmika\"\n",
    "}\n",
    "\n",
    "\n",
    "img = cv2.imread(image_path)\n",
    "img = cv2.cvtColor(img, cv2.COLOR_BGR2RGB)\n",
    "img = cv2.resize(img, (224,224))  \n",
    "img = img / 255.0  \n",
    "img = np.expand_dims(img, axis=0)  \n",
    "\n",
    "\n",
    "predictions = model.predict(img)\n",
    "predicted_class_index = np.argmax(predictions[0])  \n",
    "predicted_class_label = class_labels[predicted_class_index]  \n",
    "confidence = predictions[0][predicted_class_index]  \n",
    "\n",
    "print(f\"Predicted Class: {predicted_class_label}, Confidence: {confidence:.2f}\")\n"
   ]
  }
 ],
 "metadata": {
  "kernelspec": {
   "display_name": "base",
   "language": "python",
   "name": "python3"
  },
  "language_info": {
   "codemirror_mode": {
    "name": "ipython",
    "version": 3
   },
   "file_extension": ".py",
   "mimetype": "text/x-python",
   "name": "python",
   "nbconvert_exporter": "python",
   "pygments_lexer": "ipython3",
   "version": "3.10.9"
  }
 },
 "nbformat": 4,
 "nbformat_minor": 2
}
